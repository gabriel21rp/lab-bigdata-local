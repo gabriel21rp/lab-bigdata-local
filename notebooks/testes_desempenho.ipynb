{
 "cells": [
  {
   "cell_type": "code",
   "execution_count": null,
   "id": "40faa4f9-763f-42d7-9060-08abf6c94b1b",
   "metadata": {
    "scrolled": true
   },
   "outputs": [
    {
     "name": "stderr",
     "output_type": "stream",
     "text": [
      "WARNING: Using incubator modules: jdk.incubator.vector\n",
      "Using Spark's default log4j profile: org/apache/spark/log4j2-defaults.properties\n",
      "Setting default log level to \"WARN\".\n",
      "To adjust logging level use sc.setLogLevel(newLevel). For SparkR, use setLogLevel(newLevel).\n",
      "25/07/04 00:20:04 WARN NativeCodeLoader: Unable to load native-hadoop library for your platform... using builtin-java classes where applicable\n"
     ]
    },
    {
     "name": "stdout",
     "output_type": "stream",
     "text": [
      "Sessão Spark pronta em modo local!\n",
      "\n",
      "--- Processando arquivo: convertido_100.csv ---\n",
      "  > Executando teste: Agregação Complexa...\n"
     ]
    },
    {
     "name": "stderr",
     "output_type": "stream",
     "text": [
      "                                                                                \r"
     ]
    },
    {
     "name": "stdout",
     "output_type": "stream",
     "text": [
      "    ...concluído em 1.8306s\n",
      "  > Executando teste: Join...\n",
      "    ...concluído em 1.6074s\n",
      "  > Executando teste: Função Janela...\n",
      "    ...concluído em 0.9615s\n",
      "  > Executando teste: UDF...\n"
     ]
    },
    {
     "name": "stderr",
     "output_type": "stream",
     "text": [
      "                                                                                \r"
     ]
    },
    {
     "name": "stdout",
     "output_type": "stream",
     "text": [
      "    ...concluído em 1.5628s\n",
      "\n",
      "--- Processando arquivo: convertido_100.json ---\n",
      "  > Executando teste: Agregação Complexa...\n",
      "    ...concluído em 0.4113s\n",
      "  > Executando teste: Join...\n",
      "    ...concluído em 0.5501s\n",
      "  > Executando teste: Função Janela...\n",
      "    ...concluído em 0.3288s\n",
      "  > Executando teste: UDF...\n",
      "    ...concluído em 0.4423s\n",
      "\n",
      "--- Processando arquivo: convertido_100.parquet ---\n",
      "  > Executando teste: Agregação Complexa...\n",
      "    ...concluído em 0.2220s\n",
      "  > Executando teste: Join...\n",
      "    ...concluído em 0.3923s\n",
      "  > Executando teste: Função Janela...\n",
      "    ...concluído em 0.2995s\n",
      "  > Executando teste: UDF...\n",
      "    ...concluído em 0.3238s\n",
      "\n",
      "--- Processando arquivo: convertido_500000.csv ---\n"
     ]
    },
    {
     "name": "stderr",
     "output_type": "stream",
     "text": [
      "                                                                                \r"
     ]
    },
    {
     "name": "stdout",
     "output_type": "stream",
     "text": [
      "  > Executando teste: Agregação Complexa...\n",
      "    ...concluído em 0.5342s\n",
      "  > Executando teste: Join...\n",
      "    ...concluído em 0.8469s\n",
      "  > Executando teste: Função Janela...\n"
     ]
    },
    {
     "name": "stderr",
     "output_type": "stream",
     "text": [
      "                                                                                \r"
     ]
    },
    {
     "name": "stdout",
     "output_type": "stream",
     "text": [
      "    ...concluído em 8.2121s\n",
      "  > Executando teste: UDF...\n"
     ]
    },
    {
     "name": "stderr",
     "output_type": "stream",
     "text": [
      "                                                                                \r"
     ]
    },
    {
     "name": "stdout",
     "output_type": "stream",
     "text": [
      "    ...concluído em 9.9753s\n",
      "\n",
      "--- Processando arquivo: convertido_500000.json ---\n"
     ]
    },
    {
     "name": "stderr",
     "output_type": "stream",
     "text": [
      "                                                                                \r"
     ]
    },
    {
     "name": "stdout",
     "output_type": "stream",
     "text": [
      "  > Executando teste: Agregação Complexa...\n",
      "    ...concluído em 0.4705s\n",
      "  > Executando teste: Join...\n",
      "    ...concluído em 1.3370s\n",
      "  > Executando teste: Função Janela...\n"
     ]
    },
    {
     "name": "stderr",
     "output_type": "stream",
     "text": [
      "                                                                                \r"
     ]
    },
    {
     "name": "stdout",
     "output_type": "stream",
     "text": [
      "    ...concluído em 5.6979s\n",
      "  > Executando teste: UDF...\n"
     ]
    },
    {
     "name": "stderr",
     "output_type": "stream",
     "text": [
      "                                                                                \r"
     ]
    },
    {
     "name": "stdout",
     "output_type": "stream",
     "text": [
      "    ...concluído em 5.8314s\n",
      "\n",
      "--- Processando arquivo: convertido_500000.parquet ---\n"
     ]
    },
    {
     "name": "stderr",
     "output_type": "stream",
     "text": [
      "                                                                                \r"
     ]
    },
    {
     "name": "stdout",
     "output_type": "stream",
     "text": [
      "  > Executando teste: Agregação Complexa...\n",
      "    ...concluído em 0.4576s\n",
      "  > Executando teste: Join...\n",
      "    ...concluído em 0.6121s\n",
      "  > Executando teste: Função Janela...\n"
     ]
    },
    {
     "name": "stderr",
     "output_type": "stream",
     "text": [
      "                                                                                \r"
     ]
    },
    {
     "name": "stdout",
     "output_type": "stream",
     "text": [
      "    ...concluído em 5.6540s\n",
      "  > Executando teste: UDF...\n"
     ]
    },
    {
     "name": "stderr",
     "output_type": "stream",
     "text": [
      "                                                                                \r"
     ]
    },
    {
     "name": "stdout",
     "output_type": "stream",
     "text": [
      "    ...concluído em 4.9255s\n",
      "\n",
      "--- Processando arquivo: convertido_1000000.csv ---\n"
     ]
    },
    {
     "name": "stderr",
     "output_type": "stream",
     "text": [
      "                                                                                \r"
     ]
    },
    {
     "name": "stdout",
     "output_type": "stream",
     "text": [
      "  > Executando teste: Agregação Complexa...\n",
      "    ...concluído em 0.2848s\n",
      "  > Executando teste: Join...\n",
      "    ...concluído em 1.1105s\n",
      "  > Executando teste: Função Janela...\n"
     ]
    },
    {
     "name": "stderr",
     "output_type": "stream",
     "text": [
      "                                                                                \r"
     ]
    },
    {
     "name": "stdout",
     "output_type": "stream",
     "text": [
      "    ...concluído em 13.3812s\n",
      "  > Executando teste: UDF...\n"
     ]
    },
    {
     "name": "stderr",
     "output_type": "stream",
     "text": [
      "                                                                                \r"
     ]
    },
    {
     "name": "stdout",
     "output_type": "stream",
     "text": [
      "    ...concluído em 12.0892s\n",
      "\n",
      "--- Processando arquivo: convertido_1000000.json ---\n"
     ]
    },
    {
     "name": "stderr",
     "output_type": "stream",
     "text": [
      "                                                                                \r"
     ]
    },
    {
     "name": "stdout",
     "output_type": "stream",
     "text": [
      "  > Executando teste: Agregação Complexa...\n",
      "    ...concluído em 0.3351s\n",
      "  > Executando teste: Join...\n",
      "    ...concluído em 0.8717s\n",
      "  > Executando teste: Função Janela...\n"
     ]
    },
    {
     "name": "stderr",
     "output_type": "stream",
     "text": [
      "                                                                                \r"
     ]
    },
    {
     "name": "stdout",
     "output_type": "stream",
     "text": [
      "    ...concluído em 9.3413s\n",
      "  > Executando teste: UDF...\n"
     ]
    },
    {
     "name": "stderr",
     "output_type": "stream",
     "text": [
      "                                                                                \r"
     ]
    },
    {
     "name": "stdout",
     "output_type": "stream",
     "text": [
      "    ...concluído em 10.5622s\n",
      "\n",
      "--- Processando arquivo: convertido_1000000.parquet ---\n"
     ]
    },
    {
     "name": "stderr",
     "output_type": "stream",
     "text": [
      "                                                                                \r"
     ]
    },
    {
     "name": "stdout",
     "output_type": "stream",
     "text": [
      "  > Executando teste: Agregação Complexa...\n",
      "    ...concluído em 0.2339s\n",
      "  > Executando teste: Join...\n",
      "    ...concluído em 0.9867s\n",
      "  > Executando teste: Função Janela...\n"
     ]
    },
    {
     "name": "stderr",
     "output_type": "stream",
     "text": [
      "                                                                                \r"
     ]
    },
    {
     "name": "stdout",
     "output_type": "stream",
     "text": [
      "    ...concluído em 8.7157s\n",
      "  > Executando teste: UDF...\n"
     ]
    },
    {
     "name": "stderr",
     "output_type": "stream",
     "text": [
      "                                                                                \r"
     ]
    },
    {
     "name": "stdout",
     "output_type": "stream",
     "text": [
      "    ...concluído em 9.6303s\n",
      "\n",
      "--- Processando arquivo: convertido_2000000.csv ---\n"
     ]
    },
    {
     "name": "stderr",
     "output_type": "stream",
     "text": [
      "                                                                                \r"
     ]
    },
    {
     "name": "stdout",
     "output_type": "stream",
     "text": [
      "  > Executando teste: Agregação Complexa...\n",
      "    ...concluído em 0.5313s\n",
      "  > Executando teste: Join...\n",
      "    ...concluído em 1.2116s\n",
      "  > Executando teste: Função Janela...\n"
     ]
    },
    {
     "name": "stderr",
     "output_type": "stream",
     "text": [
      "                                                                                \r"
     ]
    },
    {
     "name": "stdout",
     "output_type": "stream",
     "text": [
      "    ...concluído em 26.9335s\n",
      "  > Executando teste: UDF...\n"
     ]
    },
    {
     "name": "stderr",
     "output_type": "stream",
     "text": [
      "                                                                                \r"
     ]
    },
    {
     "name": "stdout",
     "output_type": "stream",
     "text": [
      "    ...concluído em 26.0702s\n",
      "\n",
      "--- Processando arquivo: convertido_2000000.json ---\n"
     ]
    },
    {
     "name": "stderr",
     "output_type": "stream",
     "text": [
      "                                                                                \r"
     ]
    },
    {
     "name": "stdout",
     "output_type": "stream",
     "text": [
      "  > Executando teste: Agregação Complexa...\n",
      "    ...concluído em 0.3709s\n",
      "  > Executando teste: Join...\n"
     ]
    },
    {
     "name": "stderr",
     "output_type": "stream",
     "text": [
      "                                                                                \r"
     ]
    },
    {
     "name": "stdout",
     "output_type": "stream",
     "text": [
      "    ...concluído em 1.6044s\n",
      "  > Executando teste: Função Janela...\n"
     ]
    },
    {
     "name": "stderr",
     "output_type": "stream",
     "text": [
      "                                                                                \r"
     ]
    },
    {
     "name": "stdout",
     "output_type": "stream",
     "text": [
      "    ...concluído em 19.2009s\n",
      "  > Executando teste: UDF...\n"
     ]
    },
    {
     "name": "stderr",
     "output_type": "stream",
     "text": [
      "                                                                                \r"
     ]
    },
    {
     "name": "stdout",
     "output_type": "stream",
     "text": [
      "    ...concluído em 25.0875s\n",
      "\n",
      "--- Processando arquivo: convertido_2000000.parquet ---\n"
     ]
    },
    {
     "name": "stderr",
     "output_type": "stream",
     "text": [
      "                                                                                \r"
     ]
    },
    {
     "name": "stdout",
     "output_type": "stream",
     "text": [
      "  > Executando teste: Agregação Complexa...\n",
      "    ...concluído em 0.3671s\n",
      "  > Executando teste: Join...\n"
     ]
    },
    {
     "name": "stderr",
     "output_type": "stream",
     "text": [
      "                                                                                \r"
     ]
    },
    {
     "name": "stdout",
     "output_type": "stream",
     "text": [
      "    ...concluído em 1.2735s\n",
      "  > Executando teste: Função Janela...\n"
     ]
    },
    {
     "name": "stderr",
     "output_type": "stream",
     "text": [
      "                                                                                \r"
     ]
    },
    {
     "name": "stdout",
     "output_type": "stream",
     "text": [
      "    ...concluído em 18.5901s\n",
      "  > Executando teste: UDF...\n"
     ]
    },
    {
     "name": "stderr",
     "output_type": "stream",
     "text": [
      "                                                                                \r"
     ]
    },
    {
     "name": "stdout",
     "output_type": "stream",
     "text": [
      "    ...concluído em 20.7714s\n",
      "\n",
      "--- Processando arquivo: convertido_5000000.csv ---\n"
     ]
    },
    {
     "name": "stderr",
     "output_type": "stream",
     "text": [
      "                                                                                \r"
     ]
    }
   ],
   "source": [
    "import time\n",
    "import pandas as pd\n",
    "from pyspark.sql import SparkSession\n",
    "from pyspark.sql.functions import col, avg, sum, count, rank, rand, udf\n",
    "from pyspark.sql import functions as F\n",
    "from pyspark.sql.window import Window\n",
    "from pyspark.sql.types import StringType\n",
    "\n",
    "# ===================================================================\n",
    "# 1. SETUP DA SESSÃO E CONFIGURAÇÃO\n",
    "# ===================================================================\n",
    "\n",
    "spark = SparkSession.builder \\\n",
    "    .appName(\"BenchmarkCompleto\") \\\n",
    "    .master(\"local[*]\") \\\n",
    "    .getOrCreate()\n",
    "\n",
    "print(\"Sessão Spark pronta em modo local!\")\n",
    "\n",
    "# Lista de arquivos para testar\n",
    "arquivos_para_testar = [\n",
    "    \"convertido_100.csv\", \"convertido_100.json\", \"convertido_100.parquet\",\n",
    "    \"convertido_500000.csv\", \"convertido_500000.json\", \"convertido_500000.parquet\",\n",
    "    \"convertido_1000000.csv\", \"convertido_1000000.json\", \"convertido_1000000.parquet\",\n",
    "    \"convertido_2000000.csv\", \"convertido_2000000.json\", \"convertido_2000000.parquet\",\n",
    "    \"convertido_5000000.csv\", \"convertido_5000000.json\", \"convertido_5000000.parquet\"\n",
    "]\n",
    "\n",
    "resultados_finais = []\n",
    "\n",
    "# ===================================================================\n",
    "# 2. DEFINIÇÃO DAS FUNÇÕES DE TESTE\n",
    "# ===================================================================\n",
    "\n",
    "def teste_agregacao_complexa(df):\n",
    "    \"\"\"\n",
    "    TESTE 1: Agrupa por categoria e calcula várias métricas (soma, média, contagem).\n",
    "    \"\"\"\n",
    "    df.groupBy(\"categoria\").agg(\n",
    "        F.sum(\"valor\").alias(\"valor_total\"),\n",
    "        F.avg(\"valor\").alias(\"valor_medio\"),\n",
    "        F.count(\"*\").alias(\"qtd_transacoes\")\n",
    "    ).collect()\n",
    "\n",
    "def teste_join(df):\n",
    "    \"\"\"\n",
    "    TESTE 2: Simula um JOIN com uma tabela de \"metadados\" das categorias.\n",
    "    \"\"\"\n",
    "    # Cria uma tabela de dimensão sintética para o join\n",
    "    df_categorias = df.select(\"categoria\").distinct().withColumn(\"meta_vendas\", (rand() * 1000).cast(\"integer\"))\n",
    "    \n",
    "    # Executa o join e uma ação para forçar a computação\n",
    "    df.join(df_categorias, \"categoria\", \"inner\").count()\n",
    "\n",
    "def teste_funcao_janela(df):\n",
    "    \"\"\"\n",
    "    TESTE 3: Calcula o ranking das vendas mais valiosas dentro de cada categoria.\n",
    "    \"\"\"\n",
    "    windowSpec  = Window.partitionBy(\"categoria\").orderBy(col(\"valor\").desc())\n",
    "    \n",
    "    # Adiciona a coluna de ranking e força a computação\n",
    "    df.withColumn(\"rank\", rank().over(windowSpec)).collect()\n",
    "\n",
    "def teste_udf(df):\n",
    "    \"\"\"\n",
    "    TESTE 4: Aplica uma função Python (lenta) para classificar o valor.\n",
    "    \"\"\"\n",
    "    # Define uma função Python simples\n",
    "    def classificar_valor(valor):\n",
    "        if valor is None:\n",
    "            return \"N/A\"\n",
    "        if valor > 500:\n",
    "            return \"ALTO\"\n",
    "        elif valor > 100:\n",
    "            return \"MEDIO\"\n",
    "        else:\n",
    "            return \"BAIXO\"\n",
    "\n",
    "    # Registra a função como uma UDF\n",
    "    classificar_valor_udf = udf(classificar_valor, StringType())\n",
    "\n",
    "    # Aplica a UDF e força a computação\n",
    "    df.withColumn(\"classificacao\", classificar_valor_udf(col(\"valor\"))).collect()\n",
    "\n",
    "\n",
    "# ===================================================================\n",
    "# 3. LOOP PRINCIPAL DE TESTES\n",
    "# ===================================================================\n",
    "\n",
    "for nome_arquivo in arquivos_para_testar:\n",
    "    try:\n",
    "        print(f\"\\n--- Processando arquivo: {nome_arquivo} ---\")\n",
    "        caminho_completo = f\"/home/jovyan/work/data/{nome_arquivo}\"\n",
    "        formato = nome_arquivo.split('.')[-1]\n",
    "        num_linhas = int(nome_arquivo.split('_')[1].split('.')[0])\n",
    "\n",
    "        # Carrega o DataFrame\n",
    "        if formato == 'csv':\n",
    "            df = spark.read.csv(caminho_completo, header=True, inferSchema=True).cache()\n",
    "        elif formato == 'json':\n",
    "            df = spark.read.json(caminho_completo).cache()\n",
    "        elif formato == 'parquet':\n",
    "            df = spark.read.parquet(caminho_completo).cache()\n",
    "        else:\n",
    "            continue\n",
    "        \n",
    "        # Força o cache\n",
    "        df.count()\n",
    "\n",
    "        # Dicionário base para os resultados\n",
    "        base_resultado = {\"arquivo\": nome_arquivo, \"formato\": formato, \"linhas\": num_linhas}\n",
    "\n",
    "        # Executa e cronometra cada teste\n",
    "        for teste_func, nome_teste in [(teste_agregacao_complexa, \"Agregação Complexa\"), \n",
    "                                        (teste_join, \"Join\"), \n",
    "                                        (teste_funcao_janela, \"Função Janela\"),\n",
    "                                        (teste_udf, \"UDF\")]:\n",
    "            print(f\"  > Executando teste: {nome_teste}...\")\n",
    "            start_time = time.time()\n",
    "            teste_func(df)\n",
    "            tempo_execucao = time.time() - start_time\n",
    "            \n",
    "            # Cria uma cópia do resultado base e adiciona os dados do teste específico\n",
    "            resultado_teste = base_resultado.copy()\n",
    "            resultado_teste[\"tipo_teste\"] = nome_teste\n",
    "            resultado_teste[\"tempo_execucao_s\"] = round(tempo_execucao, 4)\n",
    "            resultados_finais.append(resultado_teste)\n",
    "            print(f\"    ...concluído em {tempo_execucao:.4f}s\")\n",
    "        \n",
    "        # Limpa o cache para o próximo arquivo\n",
    "        df.unpersist()\n",
    "\n",
    "    except Exception as e:\n",
    "        print(f\"Ocorreu um erro ao processar {nome_arquivo}: {e}\")\n",
    "\n",
    "# ===================================================================\n",
    "# 4. EXIBIÇÃO E ENCERRAMENTO\n",
    "# ===================================================================\n",
    "print(\"\\n\\n--- TODOS OS TESTES CONCLUÍDOS! ---\")\n",
    "\n",
    "if resultados_finais:\n",
    "    df_resultados = pd.DataFrame(resultados_finais)\n",
    "    display(df_resultados.sort_values(by=['linhas', 'formato', 'tipo_teste']))\n",
    "else:\n",
    "    print(\"Nenhum resultado foi coletado.\")\n",
    "\n",
    "spark.stop()"
   ]
  },
  {
   "cell_type": "code",
   "execution_count": null,
   "id": "9be0d173-7fd1-441d-8edf-91af1ab742b5",
   "metadata": {},
   "outputs": [],
   "source": []
  },
  {
   "cell_type": "code",
   "execution_count": null,
   "id": "0e1fe526-f905-4bb5-adc8-16585a20e62c",
   "metadata": {},
   "outputs": [],
   "source": []
  },
  {
   "cell_type": "code",
   "execution_count": null,
   "id": "916f8760-b194-437a-95e9-608fb7a7380a",
   "metadata": {},
   "outputs": [],
   "source": []
  }
 ],
 "metadata": {
  "kernelspec": {
   "display_name": "Python 3 (ipykernel)",
   "language": "python",
   "name": "python3"
  },
  "language_info": {
   "codemirror_mode": {
    "name": "ipython",
    "version": 3
   },
   "file_extension": ".py",
   "mimetype": "text/x-python",
   "name": "python",
   "nbconvert_exporter": "python",
   "pygments_lexer": "ipython3",
   "version": "3.11.6"
  }
 },
 "nbformat": 4,
 "nbformat_minor": 5
}
